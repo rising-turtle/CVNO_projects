{
 "cells": [
  {
   "cell_type": "code",
   "execution_count": null,
   "metadata": {},
   "outputs": [],
   "source": [
    "# import the usual resources\n",
    "import matplotlib.pyplot as plt\n",
    "import numpy as np\n",
    "\n",
    "# import utilities to keep workspaces alive during model training\n",
    "from workspace_utils import active_session\n",
    "\n",
    "# watch for any changes in model.py, if it changes, re-load it automatically\n",
    "%load_ext autoreload\n",
    "%autoreload 2\n",
    "\n",
    "## TODO: Define the Net in models.py\n",
    "\n",
    "import torch\n",
    "import torch.nn as nn\n",
    "import torch.nn.functional as F\n",
    "\n",
    "\n",
    "from torch.utils.data import Dataset, DataLoader\n",
    "from torchvision import transforms, utils\n",
    "\n",
    "# the dataset we created in Notebook 1 is copied in the helper file `data_load.py`\n",
    "from data_load import FacialKeypointsDataset\n",
    "# the transforms we defined in Notebook 1 are in the helper file `data_load.py`\n",
    "from data_load import Rescale, RandomCrop, Normalize, ToTensor, RandomMirror"
   ]
  },
  {
   "cell_type": "code",
   "execution_count": null,
   "metadata": {},
   "outputs": [],
   "source": [
    "import glob\n",
    "import os\n",
    "import torch\n",
    "from torch.utils.data import Dataset, DataLoader\n",
    "import numpy as np\n",
    "import matplotlib.image as mpimg\n",
    "import pandas as pd\n",
    "import cv2"
   ]
  },
  {
   "cell_type": "code",
   "execution_count": null,
   "metadata": {},
   "outputs": [],
   "source": [
    "# read data \n",
    "csv_file='/data/training_frames_keypoints.csv'\n",
    "root_dir='/data/training/'\n",
    "idx = 7\n",
    "key_pts_frame = pd.read_csv(csv_file)\n",
    "image_name = os.path.join(root_dir, key_pts_frame.iloc[idx, 0])\n",
    "\n",
    "image = mpimg.imread(image_name)\n",
    "if(image.shape[2] == 4):\n",
    "    image = image[:,:,0:3]\n",
    "image = cv2.cvtColor(image, cv2.COLOR_RGB2GRAY)\n",
    "key_pts = key_pts_frame.iloc[idx, 1:].as_matrix()\n",
    "key_pts = key_pts.astype('float').reshape(-1, 2)\n",
    "\n",
    "print(image.shape)\n",
    "print(key_pts.shape)\n",
    "plt.figure()\n",
    "plt.imshow(image, cmap='gray')\n",
    "plt.scatter(key_pts[:, 0], key_pts[:, 1], s=20, marker='.', c='m')"
   ]
  },
  {
   "cell_type": "code",
   "execution_count": null,
   "metadata": {},
   "outputs": [],
   "source": [
    "### test the mirror function \n",
    "def mirror(image, key_pts):\n",
    "    # image, key_pts = sample['image'], sample['keypoints']\n",
    "    h, w = image.shape[:2]\n",
    "    img = image.copy()\n",
    "    print('h: {}, w: {}'.format(h, w))\n",
    "    print(img.shape)\n",
    "    img = np.flip(img, axis=1)\n",
    "    print(key_pts[:5,:])\n",
    "    key_pts[:,0] = w - key_pts[:,0]\n",
    "    print(key_pts[:5,:])\n",
    "    return img, key_pts\n",
    "\n",
    "def rescale(image, key_pts, out_size):\n",
    "    h, w = image.shape[:2]\n",
    "    img = image.copy()\n",
    "    if h > w:\n",
    "        new_h, new_w = out_size * h / w, out_size\n",
    "    else:\n",
    "        new_h, new_w = out_size, out_size * w / h\n",
    "    new_h, new_w = int(new_h), int(new_w)\n",
    "    img = cv2.resize(img, (new_w, new_h))\n",
    "    # scale the pts, too\n",
    "    key_pts = key_pts * [new_w / w, new_h / h]\n",
    "    return img, key_pts"
   ]
  },
  {
   "cell_type": "code",
   "execution_count": null,
   "metadata": {},
   "outputs": [],
   "source": [
    "def preprocess(image, kpts, outsize=96):\n",
    "    img, new_kpts = rescale(image, kpts, outsize)\n",
    "    img, new_kpts = mirror(img, new_kpts)\n",
    "    return img, new_kpts\n",
    "\n",
    "m_img, m_kpts = preprocess(image, key_pts)\n",
    "plt.figure()\n",
    "plt.imshow(m_img, cmap='gray')       \n",
    "plt.scatter(m_kpts[:, 0], m_kpts[:, 1], s=20, marker='.', c='g')"
   ]
  }
 ],
 "metadata": {
  "kernelspec": {
   "display_name": "Python 3",
   "language": "python",
   "name": "python3"
  },
  "language_info": {
   "codemirror_mode": {
    "name": "ipython",
    "version": 3
   },
   "file_extension": ".py",
   "mimetype": "text/x-python",
   "name": "python",
   "nbconvert_exporter": "python",
   "pygments_lexer": "ipython3",
   "version": "3.7.1"
  }
 },
 "nbformat": 4,
 "nbformat_minor": 2
}
